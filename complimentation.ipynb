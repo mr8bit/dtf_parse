{
 "cells": [
  {
   "cell_type": "code",
   "execution_count": 2,
   "id": "fca74e8c",
   "metadata": {},
   "outputs": [],
   "source": [
    "import pathlib\n",
    "import pandas as pd"
   ]
  },
  {
   "cell_type": "code",
   "execution_count": 3,
   "id": "85da26c9",
   "metadata": {},
   "outputs": [],
   "source": [
    "p = pathlib.Path(f\"./comments\")\n"
   ]
  },
  {
   "cell_type": "code",
   "execution_count": 12,
   "id": "d980b91f",
   "metadata": {},
   "outputs": [],
   "source": [
    "comm_file = p.glob(\"*/*.csv\")"
   ]
  },
  {
   "cell_type": "code",
   "execution_count": 13,
   "id": "c9afce1f",
   "metadata": {},
   "outputs": [],
   "source": [
    "full_files = list(comm_file)"
   ]
  },
  {
   "cell_type": "code",
   "execution_count": 15,
   "id": "12f6fa2b",
   "metadata": {},
   "outputs": [
    {
     "data": {
      "text/plain": [
       "[PosixPath('comments/31825/31825_comments.csv'),\n",
       " PosixPath('comments/33695/33695_comments.csv'),\n",
       " PosixPath('comments/34721/34721_comments.csv'),\n",
       " PosixPath('comments/74177/74177_comments.csv'),\n",
       " PosixPath('comments/75803/75803_comments.csv'),\n",
       " PosixPath('comments/40172/40172_comments.csv'),\n",
       " PosixPath('comments/71095/71095_comments.csv'),\n",
       " PosixPath('comments/8347/8347_comments.csv'),\n",
       " PosixPath('comments/61269/61269_comments.csv'),\n",
       " PosixPath('comments/35689/35689_comments.csv')]"
      ]
     },
     "execution_count": 15,
     "metadata": {},
     "output_type": "execute_result"
    }
   ],
   "source": [
    "full_files[:10]"
   ]
  },
  {
   "cell_type": "code",
   "execution_count": 33,
   "id": "fa0f0a55",
   "metadata": {},
   "outputs": [],
   "source": [
    "from tqdm import tqdm"
   ]
  },
  {
   "cell_type": "code",
   "execution_count": 40,
   "id": "1f6423a5",
   "metadata": {},
   "outputs": [
    {
     "name": "stderr",
     "output_type": "stream",
     "text": [
      "  4%|████████▍                                                                                                                                                                                    | 3367/75760 [00:05<01:52, 642.43it/s]"
     ]
    },
    {
     "name": "stdout",
     "output_type": "stream",
     "text": [
      "comments/4/4_comments.csv\n"
     ]
    },
    {
     "name": "stderr",
     "output_type": "stream",
     "text": [
      " 26%|█████████████████████████████████████████████████                                                                                                                                           | 19753/75760 [00:23<01:08, 820.01it/s]"
     ]
    },
    {
     "name": "stdout",
     "output_type": "stream",
     "text": [
      "comments/6/6_comments.csv\n"
     ]
    },
    {
     "name": "stderr",
     "output_type": "stream",
     "text": [
      " 28%|█████████████████████████████████████████████████████▎                                                                                                                                      | 21492/75760 [00:25<01:02, 868.32it/s]"
     ]
    },
    {
     "name": "stdout",
     "output_type": "stream",
     "text": [
      "comments/2/2_comments.csv\n"
     ]
    },
    {
     "name": "stderr",
     "output_type": "stream",
     "text": [
      " 44%|██████████████████████████████████████████████████████████████████████████████████▋                                                                                                         | 33332/75760 [00:39<01:05, 650.69it/s]"
     ]
    },
    {
     "name": "stdout",
     "output_type": "stream",
     "text": [
      "comments/9/9_comments.csv\n"
     ]
    },
    {
     "name": "stderr",
     "output_type": "stream",
     "text": [
      " 52%|████████████████████████████████████████████████████████████████████████████████████████████████▉                                                                                           | 39059/75760 [00:46<00:59, 621.38it/s]"
     ]
    },
    {
     "name": "stdout",
     "output_type": "stream",
     "text": [
      "comments/5/5_comments.csv\n"
     ]
    },
    {
     "name": "stderr",
     "output_type": "stream",
     "text": [
      " 55%|███████████████████████████████████████████████████████████████████████████████████████████████████████▊                                                                                    | 41856/75760 [00:49<00:41, 825.38it/s]"
     ]
    },
    {
     "name": "stdout",
     "output_type": "stream",
     "text": [
      "comments/7/7_comments.csv\n"
     ]
    },
    {
     "name": "stderr",
     "output_type": "stream",
     "text": [
      " 64%|████████████████████████████████████████████████████████████████████████████████████████████████████████████████████████▎                                                                   | 48473/75760 [00:57<00:31, 870.91it/s]"
     ]
    },
    {
     "name": "stdout",
     "output_type": "stream",
     "text": [
      "comments/8/8_comments.csv\n"
     ]
    },
    {
     "name": "stderr",
     "output_type": "stream",
     "text": [
      " 76%|██████████████████████████████████████████████████████████████████████████████████████████████████████████████████████████████████████████████▊                                             | 57559/75760 [01:08<00:21, 861.49it/s]"
     ]
    },
    {
     "name": "stdout",
     "output_type": "stream",
     "text": [
      "comments/3/3_comments.csv\n"
     ]
    },
    {
     "name": "stderr",
     "output_type": "stream",
     "text": [
      " 95%|█████████████████████████████████████████████████████████████████████████████████████████████████████████████████████████████████████████████████████████████████████████████████▊          | 71653/75760 [01:24<00:04, 925.85it/s]"
     ]
    },
    {
     "name": "stdout",
     "output_type": "stream",
     "text": [
      "comments/1/1_comments.csv\n"
     ]
    },
    {
     "name": "stderr",
     "output_type": "stream",
     "text": [
      "100%|████████████████████████████████████████████████████████████████████████████████████████████████████████████████████████████████████████████████████████████████████████████████████████████| 75760/75760 [01:28<00:00, 854.29it/s]\n"
     ]
    }
   ],
   "source": [
    "concat = []\n",
    "for file in tqdm(full_files):\n",
    "    try:\n",
    "        concat.append(pd.read_csv(file, index_col=\"id\"))\n",
    "    except pd.errors.EmptyDataError:\n",
    "        pass\n",
    "    except pd.errors.ParserError:\n",
    "        pass\n",
    "    except TypeError:\n",
    "        print(file)"
   ]
  },
  {
   "cell_type": "code",
   "execution_count": 41,
   "id": "71eaea8e",
   "metadata": {},
   "outputs": [],
   "source": [
    "df = pd.concat(concat)"
   ]
  },
  {
   "cell_type": "code",
   "execution_count": 42,
   "id": "b6d00bc8",
   "metadata": {},
   "outputs": [
    {
     "data": {
      "text/plain": [
       "4119673"
      ]
     },
     "execution_count": 42,
     "metadata": {},
     "output_type": "execute_result"
    }
   ],
   "source": [
    "len(df)"
   ]
  },
  {
   "cell_type": "code",
   "execution_count": 43,
   "id": "89f3ad75",
   "metadata": {},
   "outputs": [
    {
     "data": {
      "text/html": [
       "<div>\n",
       "<style scoped>\n",
       "    .dataframe tbody tr th:only-of-type {\n",
       "        vertical-align: middle;\n",
       "    }\n",
       "\n",
       "    .dataframe tbody tr th {\n",
       "        vertical-align: top;\n",
       "    }\n",
       "\n",
       "    .dataframe thead th {\n",
       "        text-align: right;\n",
       "    }\n",
       "</style>\n",
       "<table border=\"1\" class=\"dataframe\">\n",
       "  <thead>\n",
       "    <tr style=\"text-align: right;\">\n",
       "      <th></th>\n",
       "      <th>user_id</th>\n",
       "      <th>date</th>\n",
       "      <th>text</th>\n",
       "      <th>replyTo</th>\n",
       "      <th>entry_id</th>\n",
       "      <th>entry_url</th>\n",
       "      <th>Unnamed: 0</th>\n",
       "    </tr>\n",
       "    <tr>\n",
       "      <th>id</th>\n",
       "      <th></th>\n",
       "      <th></th>\n",
       "      <th></th>\n",
       "      <th></th>\n",
       "      <th></th>\n",
       "      <th></th>\n",
       "      <th></th>\n",
       "    </tr>\n",
       "  </thead>\n",
       "  <tbody>\n",
       "    <tr>\n",
       "      <th>406505</th>\n",
       "      <td>31825</td>\n",
       "      <td>1522879646</td>\n",
       "      <td>Лучше бы пофиксили гличи с пробивными зарядами...</td>\n",
       "      <td>0</td>\n",
       "      <td>18198</td>\n",
       "      <td>https://dtf.ru/games/18198-ubisoft-dobavit-v-r...</td>\n",
       "      <td>NaN</td>\n",
       "    </tr>\n",
       "    <tr>\n",
       "      <th>330029</th>\n",
       "      <td>31825</td>\n",
       "      <td>1519424057</td>\n",
       "      <td>К тому же к Эхо нельзя дозвонится, он контрит ...</td>\n",
       "      <td>329591</td>\n",
       "      <td>16425</td>\n",
       "      <td>https://dtf.ru/flood/16425-blitz-nenadolgo-sta...</td>\n",
       "      <td>NaN</td>\n",
       "    </tr>\n",
       "    <tr>\n",
       "      <th>330025</th>\n",
       "      <td>31825</td>\n",
       "      <td>1519423905</td>\n",
       "      <td>Мету с ловушками не отменял никто</td>\n",
       "      <td>329591</td>\n",
       "      <td>16425</td>\n",
       "      <td>https://dtf.ru/flood/16425-blitz-nenadolgo-sta...</td>\n",
       "      <td>NaN</td>\n",
       "    </tr>\n",
       "    <tr>\n",
       "      <th>303233</th>\n",
       "      <td>31825</td>\n",
       "      <td>1518113324</td>\n",
       "      <td>После 20 лет(не помню когда сам фильм вышел) о...</td>\n",
       "      <td>0</td>\n",
       "      <td>15841</td>\n",
       "      <td>https://dtf.ru/flood/15841-ee-moglo-obezglavit...</td>\n",
       "      <td>NaN</td>\n",
       "    </tr>\n",
       "    <tr>\n",
       "      <th>200992</th>\n",
       "      <td>31825</td>\n",
       "      <td>1512557542</td>\n",
       "      <td>Возможно тут мне кто то поможет. R6 использует...</td>\n",
       "      <td>0</td>\n",
       "      <td>13232</td>\n",
       "      <td>https://dtf.ru/flood/13232-baza-igrokov-rainbo...</td>\n",
       "      <td>NaN</td>\n",
       "    </tr>\n",
       "    <tr>\n",
       "      <th>...</th>\n",
       "      <td>...</td>\n",
       "      <td>...</td>\n",
       "      <td>...</td>\n",
       "      <td>...</td>\n",
       "      <td>...</td>\n",
       "      <td>...</td>\n",
       "      <td>...</td>\n",
       "    </tr>\n",
       "    <tr>\n",
       "      <th>835327</th>\n",
       "      <td>13910</td>\n",
       "      <td>1536665783</td>\n",
       "      <td>Стена текста. Добавьте иллюстрации что-ли:)</td>\n",
       "      <td>0</td>\n",
       "      <td>26757</td>\n",
       "      <td>https://dtf.ru/read/26757-shadowzoom</td>\n",
       "      <td>NaN</td>\n",
       "    </tr>\n",
       "    <tr>\n",
       "      <th>55978</th>\n",
       "      <td>13910</td>\n",
       "      <td>1496992726</td>\n",
       "      <td>С анимацией так ничего и не сделали - все так ...</td>\n",
       "      <td>0</td>\n",
       "      <td>7185</td>\n",
       "      <td>https://dtf.ru/flood/7185-treyler-vampyr-priur...</td>\n",
       "      <td>NaN</td>\n",
       "    </tr>\n",
       "    <tr>\n",
       "      <th>218891</th>\n",
       "      <td>37201</td>\n",
       "      <td>1513688440</td>\n",
       "      <td>То что родители Рэй простые алкаши и ноунэймы ...</td>\n",
       "      <td>0</td>\n",
       "      <td>13743</td>\n",
       "      <td>https://dtf.ru/flood/13743-kak-rezhisser-posle...</td>\n",
       "      <td>NaN</td>\n",
       "    </tr>\n",
       "    <tr>\n",
       "      <th>216781</th>\n",
       "      <td>37201</td>\n",
       "      <td>1513588062</td>\n",
       "      <td>Люк был настолько супер сильным, что боялся су...</td>\n",
       "      <td>216086</td>\n",
       "      <td>13669</td>\n",
       "      <td>https://dtf.ru/flood/13669-poslednie-dzhedai-d...</td>\n",
       "      <td>NaN</td>\n",
       "    </tr>\n",
       "    <tr>\n",
       "      <th>216622</th>\n",
       "      <td>37201</td>\n",
       "      <td>1513583444</td>\n",
       "      <td>Ох как мне  нравится это натужное  разбитие ка...</td>\n",
       "      <td>0</td>\n",
       "      <td>13669</td>\n",
       "      <td>https://dtf.ru/flood/13669-poslednie-dzhedai-d...</td>\n",
       "      <td>NaN</td>\n",
       "    </tr>\n",
       "  </tbody>\n",
       "</table>\n",
       "<p>4119673 rows × 7 columns</p>\n",
       "</div>"
      ],
      "text/plain": [
       "       user_id        date                                               text  \\\n",
       "id                                                                              \n",
       "406505   31825  1522879646  Лучше бы пофиксили гличи с пробивными зарядами...   \n",
       "330029   31825  1519424057  К тому же к Эхо нельзя дозвонится, он контрит ...   \n",
       "330025   31825  1519423905                  Мету с ловушками не отменял никто   \n",
       "303233   31825  1518113324  После 20 лет(не помню когда сам фильм вышел) о...   \n",
       "200992   31825  1512557542  Возможно тут мне кто то поможет. R6 использует...   \n",
       "...        ...         ...                                                ...   \n",
       "835327   13910  1536665783        Стена текста. Добавьте иллюстрации что-ли:)   \n",
       "55978    13910  1496992726  С анимацией так ничего и не сделали - все так ...   \n",
       "218891   37201  1513688440  То что родители Рэй простые алкаши и ноунэймы ...   \n",
       "216781   37201  1513588062  Люк был настолько супер сильным, что боялся су...   \n",
       "216622   37201  1513583444  Ох как мне  нравится это натужное  разбитие ка...   \n",
       "\n",
       "        replyTo  entry_id                                          entry_url  \\\n",
       "id                                                                             \n",
       "406505        0     18198  https://dtf.ru/games/18198-ubisoft-dobavit-v-r...   \n",
       "330029   329591     16425  https://dtf.ru/flood/16425-blitz-nenadolgo-sta...   \n",
       "330025   329591     16425  https://dtf.ru/flood/16425-blitz-nenadolgo-sta...   \n",
       "303233        0     15841  https://dtf.ru/flood/15841-ee-moglo-obezglavit...   \n",
       "200992        0     13232  https://dtf.ru/flood/13232-baza-igrokov-rainbo...   \n",
       "...         ...       ...                                                ...   \n",
       "835327        0     26757               https://dtf.ru/read/26757-shadowzoom   \n",
       "55978         0      7185  https://dtf.ru/flood/7185-treyler-vampyr-priur...   \n",
       "218891        0     13743  https://dtf.ru/flood/13743-kak-rezhisser-posle...   \n",
       "216781   216086     13669  https://dtf.ru/flood/13669-poslednie-dzhedai-d...   \n",
       "216622        0     13669  https://dtf.ru/flood/13669-poslednie-dzhedai-d...   \n",
       "\n",
       "        Unnamed: 0  \n",
       "id                  \n",
       "406505         NaN  \n",
       "330029         NaN  \n",
       "330025         NaN  \n",
       "303233         NaN  \n",
       "200992         NaN  \n",
       "...            ...  \n",
       "835327         NaN  \n",
       "55978          NaN  \n",
       "218891         NaN  \n",
       "216781         NaN  \n",
       "216622         NaN  \n",
       "\n",
       "[4119673 rows x 7 columns]"
      ]
     },
     "execution_count": 43,
     "metadata": {},
     "output_type": "execute_result"
    }
   ],
   "source": [
    "df"
   ]
  },
  {
   "cell_type": "code",
   "execution_count": null,
   "id": "083c9a08",
   "metadata": {},
   "outputs": [],
   "source": []
  }
 ],
 "metadata": {
  "kernelspec": {
   "display_name": "Python 3",
   "language": "python",
   "name": "python3"
  },
  "language_info": {
   "codemirror_mode": {
    "name": "ipython",
    "version": 3
   },
   "file_extension": ".py",
   "mimetype": "text/x-python",
   "name": "python",
   "nbconvert_exporter": "python",
   "pygments_lexer": "ipython3",
   "version": "3.7.10"
  }
 },
 "nbformat": 4,
 "nbformat_minor": 5
}
